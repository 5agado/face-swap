{
 "cells": [
  {
   "cell_type": "markdown",
   "metadata": {
    "toc": true
   },
   "source": [
    "<h1>Table of Contents<span class=\"tocSkip\"></span></h1>\n",
    "<div class=\"toc\" style=\"margin-top: 1em;\"><ul class=\"toc-item\"><li><span><a href=\"#Intro\" data-toc-modified-id=\"Intro-1\"><span class=\"toc-item-num\">1&nbsp;&nbsp;</span>Intro</a></span></li><li><span><a href=\"#Load-Data\" data-toc-modified-id=\"Load-Data-2\"><span class=\"toc-item-num\">2&nbsp;&nbsp;</span>Load Data</a></span></li><li><span><a href=\"#Face-Extraction\" data-toc-modified-id=\"Face-Extraction-3\"><span class=\"toc-item-num\">3&nbsp;&nbsp;</span>Face Extraction</a></span><ul class=\"toc-item\"><li><span><a href=\"#MTCNN\" data-toc-modified-id=\"MTCNN-3.1\"><span class=\"toc-item-num\">3.1&nbsp;&nbsp;</span>MTCNN</a></span></li></ul></li><li><span><a href=\"#Face-Alignment\" data-toc-modified-id=\"Face-Alignment-4\"><span class=\"toc-item-num\">4&nbsp;&nbsp;</span>Face Alignment</a></span><ul class=\"toc-item\"><li><span><a href=\"#Landmark-Detection\" data-toc-modified-id=\"Landmark-Detection-4.1\"><span class=\"toc-item-num\">4.1&nbsp;&nbsp;</span>Landmark Detection</a></span></li><li><span><a href=\"#Find-Convex-Hull\" data-toc-modified-id=\"Find-Convex-Hull-4.2\"><span class=\"toc-item-num\">4.2&nbsp;&nbsp;</span>Find Convex Hull</a></span></li><li><span><a href=\"#Delaunay-Triangulation\" data-toc-modified-id=\"Delaunay-Triangulation-4.3\"><span class=\"toc-item-num\">4.3&nbsp;&nbsp;</span>Delaunay Triangulation</a></span><ul class=\"toc-item\"><li><span><a href=\"#Plot-Triangulation\" data-toc-modified-id=\"Plot-Triangulation-4.3.1\"><span class=\"toc-item-num\">4.3.1&nbsp;&nbsp;</span>Plot Triangulation</a></span></li></ul></li><li><span><a href=\"#Affine-warp-triangles\" data-toc-modified-id=\"Affine-warp-triangles-4.4\"><span class=\"toc-item-num\">4.4&nbsp;&nbsp;</span>Affine warp triangles</a></span></li><li><span><a href=\"#Align-Matrix\" data-toc-modified-id=\"Align-Matrix-4.5\"><span class=\"toc-item-num\">4.5&nbsp;&nbsp;</span>Align Matrix</a></span></li></ul></li><li><span><a href=\"#Face-Blending\" data-toc-modified-id=\"Face-Blending-5\"><span class=\"toc-item-num\">5&nbsp;&nbsp;</span>Face Blending</a></span><ul class=\"toc-item\"><li><span><a href=\"#Mask\" data-toc-modified-id=\"Mask-5.1\"><span class=\"toc-item-num\">5.1&nbsp;&nbsp;</span>Mask</a></span></li></ul></li><li><span><a href=\"#Face-Generation\" data-toc-modified-id=\"Face-Generation-6\"><span class=\"toc-item-num\">6&nbsp;&nbsp;</span>Face Generation</a></span><ul class=\"toc-item\"><li><span><a href=\"#Autoencoder-Generation\" data-toc-modified-id=\"Autoencoder-Generation-6.1\"><span class=\"toc-item-num\">6.1&nbsp;&nbsp;</span>Autoencoder Generation</a></span></li></ul></li></ul></div>"
   ]
  },
  {
   "cell_type": "markdown",
   "metadata": {
    "colab_type": "text",
    "id": "oTz8VqOKbKqj"
   },
   "source": [
    "# Intro\n",
    "Notebook exploring face-swap in Python.\n",
    "\n",
    "Resources:\n",
    "* [Face Swap using OpenCV](https://www.learnopencv.com/face-swap-using-opencv-c-python/)\n",
    "* [How to install dlib](https://www.pyimagesearch.com/2017/03/27/how-to-install-dlib/)\n",
    "* [Detect eyes, nose, lips, and jaw with dlib, OpenCV, and Python](https://www.pyimagesearch.com/2017/04/10/detect-eyes-nose-lips-jaw-dlib-opencv-python/)"
   ]
  },
  {
   "cell_type": "code",
   "execution_count": null,
   "metadata": {
    "colab": {
     "autoexec": {
      "startup": false,
      "wait_interval": 0
     }
    },
    "colab_type": "code",
    "id": "ja-oaP3BbKql"
   },
   "outputs": [],
   "source": [
    "import numpy as np\n",
    "import pandas as pd\n",
    "import seaborn as sns\n",
    "import matplotlib.pyplot as plt\n",
    "\n",
    "from pathlib import Path\n",
    "import sys\n",
    "import yaml\n",
    "\n",
    "import dlib\n",
    "import cv2\n",
    "\n",
    "from tqdm import tqdm\n",
    "\n",
    "# Plotting\n",
    "%matplotlib notebook\n",
    "%matplotlib inline\n",
    "\n",
    "sns.set_context(\"paper\")\n",
    "sns.set_style(\"dark\")\n",
    "\n",
    "sys.path.append('../face_swap')\n",
    "\n",
    "from utils import image_processing\n",
    "import FaceGenerator\n",
    "from face_swap import faceswap_utils as utils\n",
    "import FaceGenerator, FaceDetector\n",
    "import autoencoder\n",
    "import gan\n",
    "from face_swap import CONFIG_PATH\n",
    "from Face import Face\n",
    "import tensorflow as tf\n",
    "from deep_swap import swap_faces\n",
    "\n",
    "%load_ext autoreload\n",
    "%autoreload 2"
   ]
  },
  {
   "cell_type": "code",
   "execution_count": null,
   "metadata": {
    "colab": {
     "autoexec": {
      "startup": false,
      "wait_interval": 0
     }
    },
    "colab_type": "code",
    "collapsed": true,
    "id": "nY47jpQKbKqt"
   },
   "outputs": [],
   "source": [
    "data_folder = Path.home() / \"Documents/datasets/\"\n",
    "models_folder = Path.home() / \"Documents/models/\""
   ]
  },
  {
   "cell_type": "markdown",
   "metadata": {
    "colab_type": "text",
    "id": "n2tkW0qGbKqz"
   },
   "source": [
    "# Load Data"
   ]
  },
  {
   "cell_type": "code",
   "execution_count": null,
   "metadata": {
    "colab": {
     "autoexec": {
      "startup": false,
      "wait_interval": 0
     }
    },
    "colab_type": "code",
    "collapsed": true,
    "id": "4pBd_E6gbKq1"
   },
   "outputs": [],
   "source": [
    "# Load two random celeba faces\n",
    "from_face_img = cv2.cvtColor(cv2.imread(str(data_folder / \"img_align_celeba\" / \n",
    "                            \"000{}{}{}.jpg\".format(*np.random.randint(0, 9, 3)))),\n",
    "                             cv2.COLOR_BGR2RGB)\n",
    "to_face_img = cv2.cvtColor(cv2.imread(str(data_folder / \"img_align_celeba\" / \n",
    "                          \"000{}{}{}.jpg\".format(*np.random.randint(0, 9, 3)))),\n",
    "                       cv2.COLOR_BGR2RGB)"
   ]
  },
  {
   "cell_type": "code",
   "execution_count": null,
   "metadata": {
    "colab": {
     "autoexec": {
      "startup": false,
      "wait_interval": 0
     }
    },
    "colab_type": "code",
    "collapsed": true,
    "id": "nkw95tSHbKq9"
   },
   "outputs": [],
   "source": [
    "# Load faces with open-cv\n",
    "from_face_img = cv2.cvtColor(cv2.imread(str(data_folder / \"face_swap\" / \"sources\" /\n",
    "                            \"steve.jpg\")),\n",
    "                             cv2.COLOR_BGR2RGB)\n",
    "to_face_img = cv2.cvtColor(cv2.imread(str(data_folder / \"face_swap\" / \"sources\" /\n",
    "                            \"carell.png\")),\n",
    "                             cv2.COLOR_BGR2RGB)"
   ]
  },
  {
   "cell_type": "code",
   "execution_count": null,
   "metadata": {
    "colab": {
     "autoexec": {
      "startup": false,
      "wait_interval": 0
     }
    },
    "colab_type": "code",
    "collapsed": true,
    "id": "5uVMbEKEbKrA"
   },
   "outputs": [],
   "source": [
    "# Load trump/cage faces\n",
    "from_face_img = cv2.cvtColor(cv2.imread(str(data_folder / \"face_swap\" / \"legolas_01\" / \"frames\" /\n",
    "                            \"frame_0001.png\")),\n",
    "                             cv2.COLOR_BGR2RGB)\n",
    "to_face_img = cv2.cvtColor(cv2.imread(str(data_folder / \"face_swap\" / \"legolas_04\" / \"frames\" /\n",
    "                            \"frame_0007.png\")),\n",
    "                             cv2.COLOR_BGR2RGB)"
   ]
  },
  {
   "cell_type": "code",
   "execution_count": null,
   "metadata": {
    "collapsed": true
   },
   "outputs": [],
   "source": [
    "# Load trump/cage faces\n",
    "from_face_img = cv2.cvtColor(cv2.imread(str(data_folder / \"face_swap\" / \"test\"/ \"multi\" /\n",
    "                            \"multi_01.jpg\")),\n",
    "                             cv2.COLOR_BGR2RGB)\n",
    "to_face_img = cv2.cvtColor(cv2.imread(str(data_folder / \"face_swap\" / \"test\" / \"multi\" /\n",
    "                            \"multi_02.jpg\")),\n",
    "                             cv2.COLOR_BGR2RGB)"
   ]
  },
  {
   "cell_type": "code",
   "execution_count": null,
   "metadata": {},
   "outputs": [],
   "source": [
    "from_face_img.shape"
   ]
  },
  {
   "cell_type": "code",
   "execution_count": null,
   "metadata": {
    "colab": {
     "autoexec": {
      "startup": false,
      "wait_interval": 0
     },
     "output_extras": [
      {},
      {}
     ]
    },
    "colab_type": "code",
    "id": "Asi_tR5bbKrE",
    "outputId": "dabed9f6-d00a-4191-c86f-ec4f526c2990",
    "scrolled": true
   },
   "outputs": [],
   "source": [
    "plt.imshow(from_face_img)\n",
    "plt.show()\n",
    "plt.imshow(to_face_img)\n",
    "plt.show()"
   ]
  },
  {
   "cell_type": "code",
   "execution_count": null,
   "metadata": {
    "colab": {
     "autoexec": {
      "startup": false,
      "wait_interval": 0
     }
    },
    "colab_type": "code",
    "collapsed": true,
    "id": "cw9v-8IhbKrP"
   },
   "outputs": [],
   "source": [
    "landmark_detector = utils.LandmarkDetector(str(models_folder / 'face_recognition' / 'shape_predictor_68_face_landmarks.dat'))"
   ]
  },
  {
   "cell_type": "code",
   "execution_count": null,
   "metadata": {
    "collapsed": true
   },
   "outputs": [],
   "source": [
    "mmod = dlib.cnn_face_detection_model_v1(str(models_folder / 'face_recognition' / 'mmod_human_face_detector.dat'))\n",
    "resnet = dlib.face_recognition_model_v1(str(models_folder / 'face_recognition' / 'dlib_face_recognition_resnet_model_v1.dat'))"
   ]
  },
  {
   "cell_type": "code",
   "execution_count": null,
   "metadata": {},
   "outputs": [],
   "source": [
    "mmod(to_face_img)[0].rect"
   ]
  },
  {
   "cell_type": "markdown",
   "metadata": {
    "colab_type": "text",
    "id": "gOFrlMKjbKrT"
   },
   "source": [
    "# Face Extraction"
   ]
  },
  {
   "cell_type": "code",
   "execution_count": null,
   "metadata": {
    "collapsed": true
   },
   "outputs": [],
   "source": [
    "with open(CONFIG_PATH, 'r') as ymlfile:\n",
    "    cfg = yaml.load(ymlfile)\n",
    "\n",
    "tf.reset_default_graph()\n",
    "cfg['extract']['align'] = True\n",
    "cfg['extract']['masked'] = False\n",
    "face_detector = FaceDetector.FaceDetector(cfg)\n",
    "#face_generator = FaceGenerator.FaceGenerator(lambda x : x)"
   ]
  },
  {
   "cell_type": "code",
   "execution_count": null,
   "metadata": {},
   "outputs": [],
   "source": [
    "faces = face_detector.detect_faces(from_face_img)\n",
    "aligned_face_img = face_detector.extract_face(faces[0])"
   ]
  },
  {
   "cell_type": "code",
   "execution_count": null,
   "metadata": {},
   "outputs": [],
   "source": [
    "len(faces)"
   ]
  },
  {
   "cell_type": "code",
   "execution_count": null,
   "metadata": {},
   "outputs": [],
   "source": [
    "plt.imshow(faces[4].face_img)\n",
    "plt.show()"
   ]
  },
  {
   "cell_type": "code",
   "execution_count": null,
   "metadata": {},
   "outputs": [],
   "source": [
    "plt.imshow(faces[1].face_img)\n",
    "plt.show()"
   ]
  },
  {
   "cell_type": "markdown",
   "metadata": {
    "colab_type": "text",
    "id": "0htSPmhmbKru"
   },
   "source": [
    "# Face Alignment"
   ]
  },
  {
   "cell_type": "markdown",
   "metadata": {
    "colab_type": "text",
    "id": "euOjm0mIbKr5"
   },
   "source": [
    "## Landmark Detection"
   ]
  },
  {
   "cell_type": "code",
   "execution_count": null,
   "metadata": {
    "colab": {
     "autoexec": {
      "startup": false,
      "wait_interval": 0
     }
    },
    "colab_type": "code",
    "collapsed": true,
    "id": "HapUuAFxbKr7"
   },
   "outputs": [],
   "source": [
    "# get face boundary points and containing rectangles\n",
    "# for both faces\n",
    "face_boundary_from, rect_from = landmark_detector.get_contour(from_face)\n",
    "face_boundary_to, rect_to = landmark_detector.get_contour(to_face)"
   ]
  },
  {
   "cell_type": "markdown",
   "metadata": {
    "colab_type": "text",
    "id": "HKiCoQTIbKr-"
   },
   "source": [
    "## Find Convex Hull\n",
    "Get convex hull indexes only of target face, and obtain hull points for both faces using such indexes."
   ]
  },
  {
   "cell_type": "code",
   "execution_count": null,
   "metadata": {
    "colab": {
     "autoexec": {
      "startup": false,
      "wait_interval": 0
     }
    },
    "colab_type": "code",
    "collapsed": true,
    "id": "-O8w0TvdbKr_"
   },
   "outputs": [],
   "source": [
    "#hull_idx_from = cv2.convexHull(face_boundary_from, returnPoints = False)\n",
    "hull_idx_to = cv2.convexHull(face_boundary_to, returnPoints = False)"
   ]
  },
  {
   "cell_type": "code",
   "execution_count": null,
   "metadata": {
    "colab": {
     "autoexec": {
      "startup": false,
      "wait_interval": 0
     }
    },
    "colab_type": "code",
    "collapsed": true,
    "id": "yMdUAoezbKsF"
   },
   "outputs": [],
   "source": [
    "#??Do not use directly this cause you might lose correspondence\n",
    "#between number of points\n",
    "#hull_from = cv2.convexHull(face_boundary_from, returnPoints = True)\n",
    "#hull_to = cv2.convexHull(face_boundary_to, returnPoints = True)"
   ]
  },
  {
   "cell_type": "code",
   "execution_count": null,
   "metadata": {
    "colab": {
     "autoexec": {
      "startup": false,
      "wait_interval": 0
     }
    },
    "colab_type": "code",
    "collapsed": true,
    "id": "pEqvSBTsbKsI"
   },
   "outputs": [],
   "source": [
    "hull_from = np.array([face_boundary_from[hull_idx] for hull_idx in hull_idx_to])\n",
    "hull_to = np.array([face_boundary_to[hull_idx] for hull_idx in hull_idx_to])"
   ]
  },
  {
   "cell_type": "markdown",
   "metadata": {
    "colab_type": "text",
    "id": "c9zc1jMpbKsQ"
   },
   "source": [
    "## Delaunay Triangulation"
   ]
  },
  {
   "cell_type": "code",
   "execution_count": null,
   "metadata": {
    "colab": {
     "autoexec": {
      "startup": false,
      "wait_interval": 0
     }
    },
    "colab_type": "code",
    "collapsed": true,
    "id": "BCw2EFQIbKsT"
   },
   "outputs": [],
   "source": [
    "#triangles_from_idxs = utils.get_triangles_indexes(from_face, rect_from, hull_idx_to, face_boundary_from)\n",
    "triangles_to_idxs = utils.get_triangles_indexes(to_face, rect_to, hull_idx_to, face_boundary_to)"
   ]
  },
  {
   "cell_type": "code",
   "execution_count": null,
   "metadata": {
    "colab": {
     "autoexec": {
      "startup": false,
      "wait_interval": 0
     }
    },
    "colab_type": "code",
    "collapsed": true,
    "id": "g0rf4cwPbKsZ"
   },
   "outputs": [],
   "source": [
    "triangles_from = utils.clean_triangles((0, 0, from_face.shape[1], from_face.shape[0]), \n",
    "                                 utils.delaunay_triangulation(from_face, rect_from, hull_idx_from, face_boundary_from))\n",
    "triangles_to = utils.clean_triangles((0, 0, to_face.shape[1], to_face.shape[0]), \n",
    "                               utils.delaunay_triangulation(to_face, rect_to, hull_idx_to, face_boundary_to))"
   ]
  },
  {
   "cell_type": "code",
   "execution_count": null,
   "metadata": {
    "colab": {
     "autoexec": {
      "startup": false,
      "wait_interval": 0
     }
    },
    "colab_type": "code",
    "collapsed": true,
    "id": "4UDkYKnqbKsg"
   },
   "outputs": [],
   "source": [
    "print(len(triangles_from))\n",
    "print(len(triangles_to))"
   ]
  },
  {
   "cell_type": "markdown",
   "metadata": {
    "colab_type": "text",
    "id": "bzjuKsWwbKsk"
   },
   "source": [
    "### Plot Triangulation"
   ]
  },
  {
   "cell_type": "code",
   "execution_count": null,
   "metadata": {
    "colab": {
     "autoexec": {
      "startup": false,
      "wait_interval": 0
     }
    },
    "colab_type": "code",
    "collapsed": true,
    "id": "aKdcKqj2bKsl"
   },
   "outputs": [],
   "source": [
    "import matplotlib.patches as patches"
   ]
  },
  {
   "cell_type": "code",
   "execution_count": null,
   "metadata": {
    "colab": {
     "autoexec": {
      "startup": false,
      "wait_interval": 0
     }
    },
    "colab_type": "code",
    "collapsed": true,
    "id": "x2MOlQ7hbKss"
   },
   "outputs": [],
   "source": [
    "# Create figure and axes\n",
    "fig,ax = plt.subplots(1)\n",
    "\n",
    "# Display the image\n",
    "ax.imshow(from_face)\n",
    "\n",
    "for t in triangles_from:\n",
    "    triangle = patches.Polygon(t, linewidth=1,edgecolor='r',facecolor='none')\n",
    "    ax.add_patch(triangle)\n",
    "# Create a Rectangle patch\n",
    "#rect = patches.Rectangle((50,100),40,30,linewidth=1,edgecolor='r',facecolor='none')\n",
    "\n",
    "# Add the patch to the Axes\n",
    "#ax.add_patch(rect)\n",
    "plt.show()"
   ]
  },
  {
   "cell_type": "code",
   "execution_count": null,
   "metadata": {
    "colab": {
     "autoexec": {
      "startup": false,
      "wait_interval": 0
     }
    },
    "colab_type": "code",
    "collapsed": true,
    "id": "MH7iWaDGbKsv"
   },
   "outputs": [],
   "source": [
    "# Create figure and axes\n",
    "fig,ax = plt.subplots(1)\n",
    "# Display the image\n",
    "ax.imshow(to_face)\n",
    "\n",
    "for t in triangles_to:\n",
    "    triangle = patches.Polygon(t, linewidth=1,edgecolor='r',facecolor='none')\n",
    "    ax.add_patch(triangle)\n",
    "# Create a Rectangle patch\n",
    "#rect = patches.Rectangle((50,100),40,30,linewidth=1,edgecolor='r',facecolor='none')\n",
    "\n",
    "# Add the patch to the Axes\n",
    "#ax.add_patch(rect)\n",
    "plt.show()"
   ]
  },
  {
   "cell_type": "code",
   "execution_count": null,
   "metadata": {
    "colab": {
     "autoexec": {
      "startup": false,
      "wait_interval": 0
     }
    },
    "colab_type": "code",
    "collapsed": true,
    "id": "BiuuqP9EbKs0"
   },
   "outputs": [],
   "source": [
    "np.array(triangles_to[0])"
   ]
  },
  {
   "cell_type": "markdown",
   "metadata": {
    "colab_type": "text",
    "id": "sj2ariAFbKs2"
   },
   "source": [
    "## Affine warp triangles "
   ]
  },
  {
   "cell_type": "code",
   "execution_count": null,
   "metadata": {
    "colab": {
     "autoexec": {
      "startup": false,
      "wait_interval": 0
     }
    },
    "colab_type": "code",
    "collapsed": true,
    "id": "F4Fb8BZcbKs3"
   },
   "outputs": [],
   "source": [
    "img_res = utils.image_affine_warp(hull_from,\n",
    "                      hull_to,\n",
    "                      triangles_to_idxs, \n",
    "                      from_face, \n",
    "                      to_face.copy())"
   ]
  },
  {
   "cell_type": "code",
   "execution_count": null,
   "metadata": {
    "colab": {
     "autoexec": {
      "startup": false,
      "wait_interval": 0
     }
    },
    "colab_type": "code",
    "collapsed": true,
    "id": "pqKXzxzlbKs5"
   },
   "outputs": [],
   "source": [
    "plt.imshow(img_res)\n",
    "plt.show()"
   ]
  },
  {
   "cell_type": "markdown",
   "metadata": {},
   "source": [
    "## Align Matrix"
   ]
  },
  {
   "cell_type": "code",
   "execution_count": null,
   "metadata": {},
   "outputs": [],
   "source": [
    "matrix = utils.align_face(faces[4])"
   ]
  },
  {
   "cell_type": "code",
   "execution_count": null,
   "metadata": {},
   "outputs": [],
   "source": [
    "aligned_face = utils._align_face(faces[4])\n",
    "plt.imshow(aligned_face)\n",
    "plt.show()"
   ]
  },
  {
   "cell_type": "code",
   "execution_count": null,
   "metadata": {
    "collapsed": true
   },
   "outputs": [],
   "source": [
    "eyes_center, angle, scale = utils.get_rotation_info(faces[4])\n",
    "m = cv2.getRotationMatrix2D(faces[4].get_face_center(absolute=False), -angle, 2-scale)"
   ]
  },
  {
   "cell_type": "code",
   "execution_count": null,
   "metadata": {},
   "outputs": [],
   "source": [
    "faces[4].get_face_center(absolute=False)"
   ]
  },
  {
   "cell_type": "code",
   "execution_count": null,
   "metadata": {},
   "outputs": [],
   "source": [
    "plt.imshow(faces[4].face_img)\n",
    "plt.show()"
   ]
  },
  {
   "cell_type": "code",
   "execution_count": null,
   "metadata": {},
   "outputs": [],
   "source": [
    "plt.imshow(cv2.warpAffine(aligned_face, m, (63, 74),\n",
    "                            flags=cv2.INTER_CUBIC))\n",
    "plt.show()"
   ]
  },
  {
   "cell_type": "code",
   "execution_count": null,
   "metadata": {},
   "outputs": [],
   "source": [
    "plt.imshow(utils.align_face(faces[4]))\n",
    "plt.show()"
   ]
  },
  {
   "cell_type": "markdown",
   "metadata": {
    "colab_type": "text",
    "id": "B82e88ExbKs8"
   },
   "source": [
    "# Face Blending"
   ]
  },
  {
   "cell_type": "code",
   "execution_count": null,
   "metadata": {
    "colab": {
     "autoexec": {
      "startup": false,
      "wait_interval": 0
     }
    },
    "colab_type": "code",
    "id": "msxbTB0EbKs8"
   },
   "outputs": [],
   "source": [
    "with open(CONFIG_PATH, 'r') as ymlfile:\n",
    "    cfg = yaml.load(ymlfile)\n",
    "\n",
    "#tf.reset_default_graph()\n",
    "cfg['extract']['align'] = True\n",
    "face_detector = FaceDetector.FaceDetector(cfg)\n",
    "model_cfg = cfg['base_gan']['v0']\n",
    "aut_a, aut_b, _, _ = gan.get_gan(model_cfg)\n",
    "target_aut = aut_a if cfg.get('use_aut_a') else aut_b\n",
    "face_generator = FaceGenerator.FaceGenerator(\n",
    "        lambda seed_face, size: FaceGenerator.aue_generate_face(target_aut,\n",
    "                                                                seed_face, size,\n",
    "                                                                tanh_fix=True,\n",
    "                                                                masked=False))"
   ]
  },
  {
   "cell_type": "code",
   "execution_count": null,
   "metadata": {
    "collapsed": true
   },
   "outputs": [],
   "source": [
    "faces = face_detector.detect_faces(cv2.cvtColor(to_face_img, cv2.COLOR_RGB2BGR))\n",
    "face = faces[0]\n",
    "face.landmarks = face_detector.get_landmarks(face)"
   ]
  },
  {
   "cell_type": "code",
   "execution_count": null,
   "metadata": {
    "collapsed": true
   },
   "outputs": [],
   "source": [
    "cfg['swap']['face_size'] = (64, 64)\n",
    "swap_res = swap_faces(face, face_detector, cfg['swap'], face_generator)"
   ]
  },
  {
   "cell_type": "code",
   "execution_count": null,
   "metadata": {},
   "outputs": [],
   "source": [
    "plt.imshow(cv2.cvtColor(swap_res, cv2.COLOR_BGR2RGB))\n",
    "plt.show()"
   ]
  },
  {
   "cell_type": "code",
   "execution_count": null,
   "metadata": {},
   "outputs": [],
   "source": [
    "plt.imshow(cv2.cvtColor(swap_res, cv2.COLOR_BGR2RGB))\n",
    "plt.show()"
   ]
  },
  {
   "cell_type": "markdown",
   "metadata": {},
   "source": [
    "## Mask"
   ]
  },
  {
   "cell_type": "code",
   "execution_count": null,
   "metadata": {
    "collapsed": true
   },
   "outputs": [],
   "source": [
    "mask = utils.get_face_mask(faces[0], 'hull')"
   ]
  },
  {
   "cell_type": "code",
   "execution_count": null,
   "metadata": {
    "collapsed": true
   },
   "outputs": [],
   "source": [
    "# apply mask modifier (if specified in config)\n",
    "erosion_size = None\n",
    "if erosion_size:\n",
    "    erosion_kernel = cv2.getStructuringElement(cv2.MORPH_ELLIPSE,\n",
    "                                               erosion_size)\n",
    "    mask = cv2.erode(mask, erosion_kernel, iterations=1)\n",
    "blur_size = 10\n",
    "if blur_size > 0:\n",
    "    mask = cv2.blur(mask, (blur_size, blur_size))\n"
   ]
  },
  {
   "cell_type": "code",
   "execution_count": null,
   "metadata": {},
   "outputs": [],
   "source": [
    "plt.imshow(mask)\n",
    "plt.show()"
   ]
  },
  {
   "cell_type": "code",
   "execution_count": null,
   "metadata": {
    "colab": {
     "autoexec": {
      "startup": false,
      "wait_interval": 0
     }
    },
    "colab_type": "code",
    "id": "bQ2N1Q_dbKs_"
   },
   "outputs": [],
   "source": [
    "plt.imshow(utils.get_face_mask(faces[0], 'hull'))\n",
    "plt.show()"
   ]
  },
  {
   "cell_type": "markdown",
   "metadata": {
    "colab_type": "text",
    "id": "9ZBmwGIVbKtC"
   },
   "source": [
    "# Face Generation"
   ]
  },
  {
   "cell_type": "code",
   "execution_count": null,
   "metadata": {
    "colab": {
     "autoexec": {
      "startup": false,
      "wait_interval": 0
     }
    },
    "colab_type": "code",
    "collapsed": true,
    "id": "dc93kwEUbKtF"
   },
   "outputs": [],
   "source": [
    "# generate random image\n",
    "rnd_image = FaceGenerator.generate_random_img(None, (28, 28))\n",
    "print(rnd_image.shape)"
   ]
  },
  {
   "cell_type": "code",
   "execution_count": null,
   "metadata": {
    "colab": {
     "autoexec": {
      "startup": false,
      "wait_interval": 0
     }
    },
    "colab_type": "code",
    "collapsed": true,
    "id": "OteMx3o6bKtH"
   },
   "outputs": [],
   "source": [
    "plt.imshow(rnd_image)\n",
    "plt.show()"
   ]
  },
  {
   "cell_type": "code",
   "execution_count": null,
   "metadata": {
    "colab": {
     "autoexec": {
      "startup": false,
      "wait_interval": 0
     }
    },
    "colab_type": "code",
    "collapsed": true,
    "id": "m18HrNQmbKtJ"
   },
   "outputs": [],
   "source": [
    "# random face transform\n",
    "rnd_face = FaceGenerator.random_transform(from_face)\n",
    "print(rnd_face.shape)"
   ]
  },
  {
   "cell_type": "code",
   "execution_count": null,
   "metadata": {
    "colab": {
     "autoexec": {
      "startup": false,
      "wait_interval": 0
     }
    },
    "colab_type": "code",
    "collapsed": true,
    "id": "tJTOQ7UpbKtL"
   },
   "outputs": [],
   "source": [
    "plt.imshow(rnd_face)\n",
    "plt.show()"
   ]
  },
  {
   "cell_type": "code",
   "execution_count": null,
   "metadata": {
    "colab": {
     "autoexec": {
      "startup": false,
      "wait_interval": 0
     }
    },
    "colab_type": "code",
    "id": "EtkCcWpsbKtO"
   },
   "outputs": [],
   "source": [
    "# random face warp\n",
    "warped_face, target_face = FaceGenerator.random_warp(from_face_img)\n",
    "print(warped_face.shape)"
   ]
  },
  {
   "cell_type": "code",
   "execution_count": null,
   "metadata": {
    "colab": {
     "autoexec": {
      "startup": false,
      "wait_interval": 0
     }
    },
    "colab_type": "code",
    "id": "TcvCjQiabKtR"
   },
   "outputs": [],
   "source": [
    "plt.imshow(warped_face)\n",
    "plt.show()"
   ]
  },
  {
   "cell_type": "code",
   "execution_count": null,
   "metadata": {
    "colab": {
     "autoexec": {
      "startup": false,
      "wait_interval": 0
     }
    },
    "colab_type": "code",
    "id": "M83Pa0o9bKtV"
   },
   "outputs": [],
   "source": [
    "plt.imshow(target_face)\n",
    "plt.show()"
   ]
  },
  {
   "cell_type": "markdown",
   "metadata": {
    "colab_type": "text",
    "id": "BQJd29u_bKtX"
   },
   "source": [
    "## Autoencoder Generation"
   ]
  },
  {
   "cell_type": "code",
   "execution_count": null,
   "metadata": {
    "colab": {
     "autoexec": {
      "startup": false,
      "wait_interval": 0
     }
    },
    "colab_type": "code",
    "collapsed": true,
    "id": "jUhcE1SybKta"
   },
   "outputs": [],
   "source": [
    "aut_models_folder = models_folder / 'face_recognition' / 'deep_faceswap' / 'base_autoencoder' / 'trump_cage'"
   ]
  },
  {
   "cell_type": "code",
   "execution_count": null,
   "metadata": {
    "collapsed": true
   },
   "outputs": [],
   "source": [
    "aut_A, aut_B = autoencoder.get_autoencoders(str(aut_models_folder / 'v12k'))"
   ]
  },
  {
   "cell_type": "code",
   "execution_count": null,
   "metadata": {
    "colab": {
     "autoexec": {
      "startup": false,
      "wait_interval": 0
     }
    },
    "colab_type": "code",
    "collapsed": true,
    "id": "HUb_DZATbKtf"
   },
   "outputs": [],
   "source": [
    "tmp_face = Face(to_face_img, None)\n",
    "tmp_face.face_img = tmp_face.img"
   ]
  },
  {
   "cell_type": "code",
   "execution_count": null,
   "metadata": {
    "colab": {
     "autoexec": {
      "startup": false,
      "wait_interval": 0
     },
     "output_extras": [
      {}
     ]
    },
    "colab_type": "code",
    "id": "8LtvfoAJbKti",
    "outputId": "61706741-f957-484d-c068-bd898ad9068c"
   },
   "outputs": [],
   "source": [
    "gen_face = FaceGenerator.aue_generate_face(aut_A, tmp_face, (64, 64))\n",
    "print(gen_face.shape)"
   ]
  },
  {
   "cell_type": "code",
   "execution_count": null,
   "metadata": {
    "collapsed": true
   },
   "outputs": [],
   "source": [
    "cv2.imshow(\"\", gen_face)\n",
    "#plt.show()"
   ]
  },
  {
   "cell_type": "code",
   "execution_count": null,
   "metadata": {
    "colab": {
     "autoexec": {
      "startup": false,
      "wait_interval": 0
     }
    },
    "colab_type": "code",
    "collapsed": true,
    "id": "MCge96EcbKtl"
   },
   "outputs": [],
   "source": [
    "face_generator = FaceGenerator.FaceGenerator(lambda x, y: FaceGenerator.aue_generate_face(aut_A, x, y))"
   ]
  }
 ],
 "metadata": {
  "accelerator": "GPU",
  "colab": {
   "default_view": {},
   "name": "Face Swap.ipynb",
   "provenance": [],
   "version": "0.3.2",
   "views": {}
  },
  "kernelspec": {
   "display_name": "Python [conda env:image-processing]",
   "language": "python",
   "name": "conda-env-image-processing-py"
  },
  "language_info": {
   "codemirror_mode": {
    "name": "ipython",
    "version": 3
   },
   "file_extension": ".py",
   "mimetype": "text/x-python",
   "name": "python",
   "nbconvert_exporter": "python",
   "pygments_lexer": "ipython3",
   "version": "3.6.3"
  },
  "toc": {
   "nav_menu": {},
   "number_sections": true,
   "sideBar": true,
   "skip_h1_title": false,
   "toc_cell": true,
   "toc_position": {},
   "toc_section_display": "block",
   "toc_window_display": true
  }
 },
 "nbformat": 4,
 "nbformat_minor": 1
}
