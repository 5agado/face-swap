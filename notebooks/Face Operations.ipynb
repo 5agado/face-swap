{
 "cells": [
  {
   "cell_type": "markdown",
   "metadata": {
    "toc": true
   },
   "source": [
    "<h1>Table of Contents<span class=\"tocSkip\"></span></h1>\n",
    "<div class=\"toc\" style=\"margin-top: 1em;\"><ul class=\"toc-item\"><li><span><a href=\"#Intro\" data-toc-modified-id=\"Intro-1\"><span class=\"toc-item-num\">1&nbsp;&nbsp;</span>Intro</a></span></li><li><span><a href=\"#Load-Data\" data-toc-modified-id=\"Load-Data-2\"><span class=\"toc-item-num\">2&nbsp;&nbsp;</span>Load Data</a></span></li><li><span><a href=\"#Face-Extraction\" data-toc-modified-id=\"Face-Extraction-3\"><span class=\"toc-item-num\">3&nbsp;&nbsp;</span>Face Extraction</a></span><ul class=\"toc-item\"><li><span><a href=\"#TMP-Landmarks-To-Image\" data-toc-modified-id=\"TMP-Landmarks-To-Image-3.1\"><span class=\"toc-item-num\">3.1&nbsp;&nbsp;</span>TMP Landmarks To Image</a></span></li></ul></li><li><span><a href=\"#Face-Alignment\" data-toc-modified-id=\"Face-Alignment-4\"><span class=\"toc-item-num\">4&nbsp;&nbsp;</span>Face Alignment</a></span><ul class=\"toc-item\"><li><span><a href=\"#Landmark-Detection\" data-toc-modified-id=\"Landmark-Detection-4.1\"><span class=\"toc-item-num\">4.1&nbsp;&nbsp;</span>Landmark Detection</a></span></li><li><span><a href=\"#Find-Convex-Hull\" data-toc-modified-id=\"Find-Convex-Hull-4.2\"><span class=\"toc-item-num\">4.2&nbsp;&nbsp;</span>Find Convex Hull</a></span></li><li><span><a href=\"#Delaunay-Triangulation\" data-toc-modified-id=\"Delaunay-Triangulation-4.3\"><span class=\"toc-item-num\">4.3&nbsp;&nbsp;</span>Delaunay Triangulation</a></span><ul class=\"toc-item\"><li><span><a href=\"#Plot-Triangulation\" data-toc-modified-id=\"Plot-Triangulation-4.3.1\"><span class=\"toc-item-num\">4.3.1&nbsp;&nbsp;</span>Plot Triangulation</a></span></li></ul></li><li><span><a href=\"#Affine-warp-triangles\" data-toc-modified-id=\"Affine-warp-triangles-4.4\"><span class=\"toc-item-num\">4.4&nbsp;&nbsp;</span>Affine warp triangles</a></span></li></ul></li><li><span><a href=\"#Face-Blending\" data-toc-modified-id=\"Face-Blending-5\"><span class=\"toc-item-num\">5&nbsp;&nbsp;</span>Face Blending</a></span></li><li><span><a href=\"#Face-Generation\" data-toc-modified-id=\"Face-Generation-6\"><span class=\"toc-item-num\">6&nbsp;&nbsp;</span>Face Generation</a></span><ul class=\"toc-item\"><li><span><a href=\"#Autoencoder-Generation\" data-toc-modified-id=\"Autoencoder-Generation-6.1\"><span class=\"toc-item-num\">6.1&nbsp;&nbsp;</span>Autoencoder Generation</a></span></li></ul></li><li><span><a href=\"#Hyperparams-Eval\" data-toc-modified-id=\"Hyperparams-Eval-7\"><span class=\"toc-item-num\">7&nbsp;&nbsp;</span>Hyperparams Eval</a></span></li></ul></div>"
   ]
  },
  {
   "cell_type": "markdown",
   "metadata": {
    "colab_type": "text",
    "id": "oTz8VqOKbKqj"
   },
   "source": [
    "# Intro\n",
    "Notebook exploring face related operations in Python, e.g. face extraction, alignment, blending, swapping.\n",
    "\n",
    "Resources:\n",
    "* [Face Swap using OpenCV](https://www.learnopencv.com/face-swap-using-opencv-c-python/)\n",
    "* [How to install dlib](https://www.pyimagesearch.com/2017/03/27/how-to-install-dlib/)\n",
    "* [Detect eyes, nose, lips, and jaw with dlib, OpenCV, and Python](https://www.pyimagesearch.com/2017/04/10/detect-eyes-nose-lips-jaw-dlib-opencv-python/)"
   ]
  },
  {
   "cell_type": "code",
   "execution_count": null,
   "metadata": {
    "colab": {
     "autoexec": {
      "startup": false,
      "wait_interval": 0
     }
    },
    "colab_type": "code",
    "id": "ja-oaP3BbKql"
   },
   "outputs": [],
   "source": [
    "import numpy as np\n",
    "import pandas as pd\n",
    "import seaborn as sns\n",
    "import matplotlib.pyplot as plt\n",
    "\n",
    "from pathlib import Path\n",
    "import sys\n",
    "import yaml\n",
    "\n",
    "import dlib\n",
    "import cv2\n",
    "import tensorflow as tf\n",
    "from IPython import display\n",
    "from IPython.display import clear_output\n",
    "from PIL import Image\n",
    "from numpy.random import shuffle\n",
    "\n",
    "from tqdm import tqdm\n",
    "\n",
    "# Plotting\n",
    "%matplotlib notebook\n",
    "#%matplotlib inline\n",
    "\n",
    "sns.set_context(\"paper\")\n",
    "sns.set_style(\"dark\")\n",
    "\n",
    "# face-swap repo\n",
    "sys.path.append('../face_swap')\n",
    "\n",
    "import FaceGenerator\n",
    "from face_swap import faceswap_utils as utils\n",
    "from face_swap import gan_utils, plot_utils\n",
    "import FaceGenerator, FaceDetector\n",
    "import autoencoder\n",
    "import gan\n",
    "from face_swap import CONFIG_PATH\n",
    "from Face import Face\n",
    "from deep_swap import swap_faces, Swapper\n",
    "from face_swap.train import get_original_data\n",
    "\n",
    "# data-science-learning utils\n",
    "from utils import image_processing\n",
    "\n",
    "%load_ext autoreload\n",
    "%autoreload 2"
   ]
  },
  {
   "cell_type": "code",
   "execution_count": null,
   "metadata": {
    "colab": {
     "autoexec": {
      "startup": false,
      "wait_interval": 0
     }
    },
    "colab_type": "code",
    "id": "nY47jpQKbKqt"
   },
   "outputs": [],
   "source": [
    "data_folder = Path.home() / \"Documents/datasets/\"\n",
    "models_folder = Path.home() / \"Documents/models/\""
   ]
  },
  {
   "cell_type": "markdown",
   "metadata": {
    "colab_type": "text",
    "id": "n2tkW0qGbKqz"
   },
   "source": [
    "# Load Data"
   ]
  },
  {
   "cell_type": "code",
   "execution_count": null,
   "metadata": {},
   "outputs": [],
   "source": [
    "def load_img(path: Path, convert_BGR2RGB=False):\n",
    "    img = cv2.imread(str(path))\n",
    "    if convert_BGR2RGB:\n",
    "        return cv2.cvtColor(img, cv2.COLOR_BGR2RGB)\n",
    "    else:\n",
    "        return img"
   ]
  },
  {
   "cell_type": "code",
   "execution_count": null,
   "metadata": {
    "colab": {
     "autoexec": {
      "startup": false,
      "wait_interval": 0
     }
    },
    "colab_type": "code",
    "id": "4pBd_E6gbKq1"
   },
   "outputs": [],
   "source": [
    "# Load two random celeba faces\n",
    "rand_celeba_count = np.random.randint(0, 9, 3)\n",
    "from_face_img = load_img(data_folder / \"img_align_celeba\" / \"000{}{}{}.jpg\".format(*rand_celeba_count),\n",
    "                             True)\n",
    "rand_celeba_count = np.random.randint(0, 9, 3)\n",
    "to_face_img = load_img(data_folder / \"img_align_celeba\" / \"000{}{}{}.jpg\".format(*rand_celeba_count),\n",
    "                             True)"
   ]
  },
  {
   "cell_type": "code",
   "execution_count": null,
   "metadata": {
    "colab": {
     "autoexec": {
      "startup": false,
      "wait_interval": 0
     },
     "output_extras": [
      {},
      {}
     ]
    },
    "colab_type": "code",
    "id": "Asi_tR5bbKrE",
    "outputId": "dabed9f6-d00a-4191-c86f-ec4f526c2990"
   },
   "outputs": [],
   "source": [
    "plt.imshow(from_face_img)\n",
    "plt.show()\n",
    "plt.imshow(to_face_img)\n",
    "plt.show()"
   ]
  },
  {
   "cell_type": "markdown",
   "metadata": {
    "colab_type": "text",
    "id": "gOFrlMKjbKrT"
   },
   "source": [
    "# Face Extraction"
   ]
  },
  {
   "cell_type": "code",
   "execution_count": null,
   "metadata": {},
   "outputs": [],
   "source": [
    "# Init face detector by passing local config\n",
    "with open(CONFIG_PATH, 'r') as ymlfile:\n",
    "    cfg = yaml.load(ymlfile)\n",
    "\n",
    "#tf.reset_default_graph()\n",
    "cfg['extract']['align'] = False\n",
    "cfg['extract']['masked'] = False\n",
    "\n",
    "face_detector = FaceDetector.FaceDetector(cfg)"
   ]
  },
  {
   "cell_type": "code",
   "execution_count": null,
   "metadata": {},
   "outputs": [],
   "source": [
    "faces = face_detector.detect_faces(from_face_img)"
   ]
  },
  {
   "cell_type": "code",
   "execution_count": null,
   "metadata": {},
   "outputs": [],
   "source": [
    "faces[0].landmarks"
   ]
  },
  {
   "cell_type": "markdown",
   "metadata": {},
   "source": [
    "## TMP Landmarks To Image"
   ]
  },
  {
   "cell_type": "code",
   "execution_count": null,
   "metadata": {},
   "outputs": [],
   "source": [
    "from PIL import Image, ImageDraw\n",
    "def draw_landmarks(face, height, width, out_path):\n",
    "    img = Image.new('L', (width, height), 255)\n",
    "    draw = ImageDraw.Draw(img)\n",
    "    # Jawline\n",
    "    draw.line(face[0:17])\n",
    "\n",
    "    # Right Brow\n",
    "    draw.line(face[17:22])\n",
    "\n",
    "    # Left Brow\n",
    "    draw.line(face[22:27])\n",
    "\n",
    "    # Nose Line\n",
    "    draw.line(face[27:31])\n",
    "\n",
    "    # Nose Base\n",
    "    draw.line(face[31:36])\n",
    "\n",
    "    # Right Eye\n",
    "    draw.polygon(face[36:42])\n",
    "\n",
    "    # Left Eye\n",
    "    draw.polygon(face[42:48])\n",
    "\n",
    "    # Outside Mouth\n",
    "    draw.polygon(face[48:60])\n",
    "\n",
    "    # Inside Mouth\n",
    "    draw.polygon(face[60:68])\n",
    "\n",
    "    img.save(out_path)\n",
    "    return img"
   ]
  },
  {
   "cell_type": "markdown",
   "metadata": {
    "colab_type": "text",
    "id": "0htSPmhmbKru"
   },
   "source": [
    "# Face Alignment"
   ]
  },
  {
   "cell_type": "markdown",
   "metadata": {
    "colab_type": "text",
    "heading_collapsed": true,
    "id": "euOjm0mIbKr5"
   },
   "source": [
    "## Landmark Detection"
   ]
  },
  {
   "cell_type": "code",
   "execution_count": null,
   "metadata": {
    "colab": {
     "autoexec": {
      "startup": false,
      "wait_interval": 0
     }
    },
    "colab_type": "code",
    "hidden": true,
    "id": "HapUuAFxbKr7"
   },
   "outputs": [],
   "source": [
    "# get face boundary points and containing rectangles\n",
    "# for both faces\n",
    "face_boundary_from, rect_from = landmark_detector.get_contour(from_face)\n",
    "face_boundary_to, rect_to = landmark_detector.get_contour(to_face)"
   ]
  },
  {
   "cell_type": "markdown",
   "metadata": {
    "colab_type": "text",
    "heading_collapsed": true,
    "id": "HKiCoQTIbKr-"
   },
   "source": [
    "## Find Convex Hull\n",
    "Get convex hull indexes only of target face, and obtain hull points for both faces using such indexes."
   ]
  },
  {
   "cell_type": "code",
   "execution_count": null,
   "metadata": {
    "colab": {
     "autoexec": {
      "startup": false,
      "wait_interval": 0
     }
    },
    "colab_type": "code",
    "hidden": true,
    "id": "-O8w0TvdbKr_"
   },
   "outputs": [],
   "source": [
    "#hull_idx_from = cv2.convexHull(face_boundary_from, returnPoints = False)\n",
    "hull_idx_to = cv2.convexHull(face_boundary_to, returnPoints = False)"
   ]
  },
  {
   "cell_type": "code",
   "execution_count": null,
   "metadata": {
    "colab": {
     "autoexec": {
      "startup": false,
      "wait_interval": 0
     }
    },
    "colab_type": "code",
    "hidden": true,
    "id": "yMdUAoezbKsF"
   },
   "outputs": [],
   "source": [
    "#??Do not use directly this cause you might lose correspondence\n",
    "#between number of points\n",
    "#hull_from = cv2.convexHull(face_boundary_from, returnPoints = True)\n",
    "#hull_to = cv2.convexHull(face_boundary_to, returnPoints = True)"
   ]
  },
  {
   "cell_type": "code",
   "execution_count": null,
   "metadata": {
    "colab": {
     "autoexec": {
      "startup": false,
      "wait_interval": 0
     }
    },
    "colab_type": "code",
    "hidden": true,
    "id": "pEqvSBTsbKsI"
   },
   "outputs": [],
   "source": [
    "hull_from = np.array([face_boundary_from[hull_idx] for hull_idx in hull_idx_to])\n",
    "hull_to = np.array([face_boundary_to[hull_idx] for hull_idx in hull_idx_to])"
   ]
  },
  {
   "cell_type": "markdown",
   "metadata": {
    "colab_type": "text",
    "id": "c9zc1jMpbKsQ"
   },
   "source": [
    "## Delaunay Triangulation"
   ]
  },
  {
   "cell_type": "code",
   "execution_count": null,
   "metadata": {
    "colab": {
     "autoexec": {
      "startup": false,
      "wait_interval": 0
     }
    },
    "colab_type": "code",
    "id": "BCw2EFQIbKsT"
   },
   "outputs": [],
   "source": [
    "#triangles_from_idxs = utils.get_triangles_indexes(from_face, rect_from, hull_idx_to, face_boundary_from)\n",
    "triangles_to_idxs = utils.get_triangles_indexes(to_face, rect_to, hull_idx_to, face_boundary_to)"
   ]
  },
  {
   "cell_type": "code",
   "execution_count": null,
   "metadata": {
    "colab": {
     "autoexec": {
      "startup": false,
      "wait_interval": 0
     }
    },
    "colab_type": "code",
    "id": "g0rf4cwPbKsZ"
   },
   "outputs": [],
   "source": [
    "triangles_from = utils.clean_triangles((0, 0, from_face.shape[1], from_face.shape[0]), \n",
    "                                 utils.delaunay_triangulation(from_face, rect_from, hull_idx_from, face_boundary_from))\n",
    "triangles_to = utils.clean_triangles((0, 0, to_face.shape[1], to_face.shape[0]), \n",
    "                               utils.delaunay_triangulation(to_face, rect_to, hull_idx_to, face_boundary_to))"
   ]
  },
  {
   "cell_type": "code",
   "execution_count": null,
   "metadata": {
    "colab": {
     "autoexec": {
      "startup": false,
      "wait_interval": 0
     }
    },
    "colab_type": "code",
    "id": "4UDkYKnqbKsg"
   },
   "outputs": [],
   "source": [
    "print(len(triangles_from))\n",
    "print(len(triangles_to))"
   ]
  },
  {
   "cell_type": "markdown",
   "metadata": {
    "colab_type": "text",
    "heading_collapsed": true,
    "id": "bzjuKsWwbKsk"
   },
   "source": [
    "### Plot Triangulation"
   ]
  },
  {
   "cell_type": "code",
   "execution_count": null,
   "metadata": {
    "colab": {
     "autoexec": {
      "startup": false,
      "wait_interval": 0
     }
    },
    "colab_type": "code",
    "hidden": true,
    "id": "aKdcKqj2bKsl"
   },
   "outputs": [],
   "source": [
    "import matplotlib.patches as patches"
   ]
  },
  {
   "cell_type": "code",
   "execution_count": null,
   "metadata": {
    "colab": {
     "autoexec": {
      "startup": false,
      "wait_interval": 0
     }
    },
    "colab_type": "code",
    "hidden": true,
    "id": "x2MOlQ7hbKss"
   },
   "outputs": [],
   "source": [
    "# Create figure and axes\n",
    "fig,ax = plt.subplots(1)\n",
    "\n",
    "# Display the image\n",
    "ax.imshow(from_face)\n",
    "\n",
    "for t in triangles_from:\n",
    "    triangle = patches.Polygon(t, linewidth=1,edgecolor='r',facecolor='none')\n",
    "    ax.add_patch(triangle)\n",
    "# Create a Rectangle patch\n",
    "#rect = patches.Rectangle((50,100),40,30,linewidth=1,edgecolor='r',facecolor='none')\n",
    "\n",
    "# Add the patch to the Axes\n",
    "#ax.add_patch(rect)\n",
    "plt.show()"
   ]
  },
  {
   "cell_type": "code",
   "execution_count": null,
   "metadata": {
    "colab": {
     "autoexec": {
      "startup": false,
      "wait_interval": 0
     }
    },
    "colab_type": "code",
    "hidden": true,
    "id": "MH7iWaDGbKsv"
   },
   "outputs": [],
   "source": [
    "# Create figure and axes\n",
    "fig,ax = plt.subplots(1)\n",
    "# Display the image\n",
    "ax.imshow(to_face)\n",
    "\n",
    "for t in triangles_to:\n",
    "    triangle = patches.Polygon(t, linewidth=1,edgecolor='r',facecolor='none')\n",
    "    ax.add_patch(triangle)\n",
    "# Create a Rectangle patch\n",
    "#rect = patches.Rectangle((50,100),40,30,linewidth=1,edgecolor='r',facecolor='none')\n",
    "\n",
    "# Add the patch to the Axes\n",
    "#ax.add_patch(rect)\n",
    "plt.show()"
   ]
  },
  {
   "cell_type": "code",
   "execution_count": null,
   "metadata": {
    "colab": {
     "autoexec": {
      "startup": false,
      "wait_interval": 0
     }
    },
    "colab_type": "code",
    "hidden": true,
    "id": "BiuuqP9EbKs0"
   },
   "outputs": [],
   "source": [
    "np.array(triangles_to[0])"
   ]
  },
  {
   "cell_type": "markdown",
   "metadata": {
    "colab_type": "text",
    "id": "sj2ariAFbKs2"
   },
   "source": [
    "## Affine warp triangles "
   ]
  },
  {
   "cell_type": "code",
   "execution_count": null,
   "metadata": {
    "colab": {
     "autoexec": {
      "startup": false,
      "wait_interval": 0
     }
    },
    "colab_type": "code",
    "id": "F4Fb8BZcbKs3"
   },
   "outputs": [],
   "source": [
    "img_res = utils.image_affine_warp(hull_from,\n",
    "                      hull_to,\n",
    "                      triangles_to_idxs, \n",
    "                      from_face, \n",
    "                      to_face.copy())"
   ]
  },
  {
   "cell_type": "code",
   "execution_count": null,
   "metadata": {
    "colab": {
     "autoexec": {
      "startup": false,
      "wait_interval": 0
     }
    },
    "colab_type": "code",
    "id": "pqKXzxzlbKs5"
   },
   "outputs": [],
   "source": [
    "plt.imshow(img_res)\n",
    "plt.show()"
   ]
  },
  {
   "cell_type": "markdown",
   "metadata": {
    "colab_type": "text",
    "id": "B82e88ExbKs8"
   },
   "source": [
    "# Face Blending"
   ]
  },
  {
   "cell_type": "code",
   "execution_count": null,
   "metadata": {
    "colab": {
     "autoexec": {
      "startup": false,
      "wait_interval": 0
     }
    },
    "colab_type": "code",
    "id": "msxbTB0EbKs8"
   },
   "outputs": [],
   "source": [
    "with open(CONFIG_PATH, 'r') as ymlfile:\n",
    "    cfg = yaml.load(ymlfile)\n",
    "\n",
    "#tf.reset_default_graph()\n",
    "cfg['extract']['align'] = True\n",
    "face_detector = FaceDetector.FaceDetector(cfg)\n",
    "model_cfg = cfg['base_gan']['v0']\n",
    "aut_a, aut_b, _, _ = gan.get_gan(model_cfg)\n",
    "target_aut = aut_a if cfg.get('use_aut_a') else aut_b\n",
    "face_generator = FaceGenerator.FaceGenerator(\n",
    "        lambda seed_face, size: FaceGenerator.aue_generate_face(target_aut,\n",
    "                                                                seed_face, size,\n",
    "                                                                tanh_fix=True,\n",
    "                                                                masked=False))"
   ]
  },
  {
   "cell_type": "code",
   "execution_count": null,
   "metadata": {},
   "outputs": [],
   "source": [
    "faces = face_detector.detect_faces(cv2.cvtColor(to_face_img, cv2.COLOR_RGB2BGR))\n",
    "face = faces[0]\n",
    "face.landmarks = face_detector.get_landmarks(face)"
   ]
  },
  {
   "cell_type": "code",
   "execution_count": null,
   "metadata": {},
   "outputs": [],
   "source": [
    "cfg['swap']['face_size'] = (64, 64)\n",
    "swap_res = swap_faces(face, face_detector, cfg['swap'], face_generator)"
   ]
  },
  {
   "cell_type": "code",
   "execution_count": null,
   "metadata": {},
   "outputs": [],
   "source": [
    "plt.imshow(cv2.cvtColor(swap_res, cv2.COLOR_BGR2RGB))\n",
    "plt.show()"
   ]
  },
  {
   "cell_type": "markdown",
   "metadata": {
    "colab_type": "text",
    "id": "9ZBmwGIVbKtC"
   },
   "source": [
    "# Face Generation"
   ]
  },
  {
   "cell_type": "code",
   "execution_count": null,
   "metadata": {
    "colab": {
     "autoexec": {
      "startup": false,
      "wait_interval": 0
     }
    },
    "colab_type": "code",
    "id": "dc93kwEUbKtF"
   },
   "outputs": [],
   "source": [
    "# generate random image\n",
    "rnd_image = FaceGenerator.generate_random_img(None, (28, 28))\n",
    "print(rnd_image.shape)"
   ]
  },
  {
   "cell_type": "code",
   "execution_count": null,
   "metadata": {
    "colab": {
     "autoexec": {
      "startup": false,
      "wait_interval": 0
     }
    },
    "colab_type": "code",
    "id": "OteMx3o6bKtH"
   },
   "outputs": [],
   "source": [
    "plt.imshow(rnd_image)\n",
    "plt.show()"
   ]
  },
  {
   "cell_type": "code",
   "execution_count": null,
   "metadata": {
    "colab": {
     "autoexec": {
      "startup": false,
      "wait_interval": 0
     }
    },
    "colab_type": "code",
    "id": "m18HrNQmbKtJ"
   },
   "outputs": [],
   "source": [
    "# random face transform\n",
    "rnd_face = FaceGenerator.random_transform(from_face)\n",
    "print(rnd_face.shape)"
   ]
  },
  {
   "cell_type": "code",
   "execution_count": null,
   "metadata": {
    "colab": {
     "autoexec": {
      "startup": false,
      "wait_interval": 0
     }
    },
    "colab_type": "code",
    "id": "tJTOQ7UpbKtL"
   },
   "outputs": [],
   "source": [
    "plt.imshow(rnd_face)\n",
    "plt.show()"
   ]
  },
  {
   "cell_type": "code",
   "execution_count": null,
   "metadata": {
    "colab": {
     "autoexec": {
      "startup": false,
      "wait_interval": 0
     }
    },
    "colab_type": "code",
    "id": "EtkCcWpsbKtO"
   },
   "outputs": [],
   "source": [
    "# random face warp\n",
    "warped_face, target_face = FaceGenerator.random_warp(from_face_img)\n",
    "print(warped_face.shape)"
   ]
  },
  {
   "cell_type": "code",
   "execution_count": null,
   "metadata": {
    "colab": {
     "autoexec": {
      "startup": false,
      "wait_interval": 0
     }
    },
    "colab_type": "code",
    "id": "TcvCjQiabKtR"
   },
   "outputs": [],
   "source": [
    "plt.imshow(warped_face)\n",
    "plt.show()"
   ]
  },
  {
   "cell_type": "code",
   "execution_count": null,
   "metadata": {
    "colab": {
     "autoexec": {
      "startup": false,
      "wait_interval": 0
     }
    },
    "colab_type": "code",
    "id": "M83Pa0o9bKtV"
   },
   "outputs": [],
   "source": [
    "plt.imshow(target_face)\n",
    "plt.show()"
   ]
  },
  {
   "cell_type": "markdown",
   "metadata": {
    "colab_type": "text",
    "id": "BQJd29u_bKtX"
   },
   "source": [
    "## Autoencoder Generation"
   ]
  },
  {
   "cell_type": "code",
   "execution_count": null,
   "metadata": {
    "colab": {
     "autoexec": {
      "startup": false,
      "wait_interval": 0
     }
    },
    "colab_type": "code",
    "id": "jUhcE1SybKta"
   },
   "outputs": [],
   "source": [
    "aut_models_folder = models_folder / 'face_recognition'"
   ]
  },
  {
   "cell_type": "code",
   "execution_count": null,
   "metadata": {},
   "outputs": [],
   "source": [
    "aut_A, aut_B = autoencoder.get_autoencoders(str(aut_models_folder / 'v12k'))"
   ]
  },
  {
   "cell_type": "code",
   "execution_count": null,
   "metadata": {
    "colab": {
     "autoexec": {
      "startup": false,
      "wait_interval": 0
     }
    },
    "colab_type": "code",
    "id": "HUb_DZATbKtf"
   },
   "outputs": [],
   "source": [
    "tmp_face = Face(to_face_img, None)\n",
    "tmp_face.face_img = tmp_face.img"
   ]
  },
  {
   "cell_type": "code",
   "execution_count": null,
   "metadata": {
    "colab": {
     "autoexec": {
      "startup": false,
      "wait_interval": 0
     },
     "output_extras": [
      {}
     ]
    },
    "colab_type": "code",
    "id": "8LtvfoAJbKti",
    "outputId": "61706741-f957-484d-c068-bd898ad9068c"
   },
   "outputs": [],
   "source": [
    "gen_face = FaceGenerator.aue_generate_face(aut_A, tmp_face, (64, 64))\n",
    "print(gen_face.shape)"
   ]
  },
  {
   "cell_type": "code",
   "execution_count": null,
   "metadata": {},
   "outputs": [],
   "source": [
    "cv2.imshow(\"\", gen_face)\n",
    "#plt.show()"
   ]
  },
  {
   "cell_type": "code",
   "execution_count": null,
   "metadata": {
    "colab": {
     "autoexec": {
      "startup": false,
      "wait_interval": 0
     }
    },
    "colab_type": "code",
    "id": "MCge96EcbKtl"
   },
   "outputs": [],
   "source": [
    "face_generator = FaceGenerator.FaceGenerator(lambda x, y: FaceGenerator.aue_generate_face(aut_A, x, y))"
   ]
  },
  {
   "cell_type": "markdown",
   "metadata": {},
   "source": [
    "# Hyperparams Eval"
   ]
  },
  {
   "cell_type": "code",
   "execution_count": null,
   "metadata": {},
   "outputs": [],
   "source": [
    "target_img = cv2.imread(str(data_folder / \"face_swap\"))"
   ]
  },
  {
   "cell_type": "code",
   "execution_count": null,
   "metadata": {},
   "outputs": [],
   "source": [
    "# load config\n",
    "with open(CONFIG_PATH, 'r') as ymlfile:\n",
    "    cfg = yaml.load(ymlfile)\n",
    "model_cfg = cfg['masked_gan']['v1']\n",
    "\n",
    "#model_cfg['models_path'] = None\n",
    "#model_cfg['img_shape'] = \"(128, 128, 3)\"\n",
    "#model_cfg['discriminator_input_shape'] = \"(128, 128, 6)\"\n",
    "#model_cfg['decoder_nb_deconv_blocks'] = 4"
   ]
  },
  {
   "cell_type": "code",
   "execution_count": null,
   "metadata": {},
   "outputs": [],
   "source": [
    "tf.reset_default_graph()\n",
    "face_detector = FaceDetector.FaceDetector(cfg)"
   ]
  },
  {
   "cell_type": "code",
   "execution_count": null,
   "metadata": {},
   "outputs": [],
   "source": [
    "# load generator and related functions\n",
    "gen_a, gen_b, _, _ = gan.get_gan(model_cfg, load_discriminators=True)\n",
    "_, _, _, fun_generate_a, fun_mask_a, fun_abgr_a = gan_utils.cycle_variables_masked(gen_a)\n",
    "gen_fun_a = lambda x: fun_abgr_a([np.expand_dims(x, 0)])[0][0]"
   ]
  },
  {
   "cell_type": "code",
   "execution_count": null,
   "metadata": {},
   "outputs": [],
   "source": [
    "generator_a = FaceGenerator.FaceGenerator(\n",
    "            lambda face_img: FaceGenerator.gan_masked_generate_face(gen_fun_a, face_img),\n",
    "            input_size=(64, 64), config=cfg['swap'])"
   ]
  },
  {
   "cell_type": "code",
   "execution_count": null,
   "metadata": {},
   "outputs": [],
   "source": [
    "swapper = Swapper(face_detector, generator_a, cfg['swap'])"
   ]
  },
  {
   "cell_type": "code",
   "execution_count": null,
   "metadata": {},
   "outputs": [],
   "source": [
    "# blur_size\n",
    "dest_folder = data_folder / \"faceswap_experiments/hyperparams_test/blur_size\"\n",
    "for blur_size in np.arange(0, 20, 3):\n",
    "    swapper.config['blur_size'] = blur_size\n",
    "    results = swapper.swap(target_img)\n",
    "    cv2.imwrite(str(dest_folder / \"{}.png\".format(blur_size)), results)"
   ]
  },
  {
   "cell_type": "code",
   "execution_count": null,
   "metadata": {},
   "outputs": [],
   "source": [
    "# color_correct_blur_frac\n",
    "dest_folder = data_folder / \"faceswap_experiments/hyperparams_test/col_cor\"\n",
    "if not dest_folder.exists():\n",
    "    dest_folder.mkdir()\n",
    "for color_correct_blur_frac in np.linspace(0, 1, 10):\n",
    "    swapper.config['color_correct_blur_frac'] = color_correct_blur_frac\n",
    "    results = swapper.swap(target_img)\n",
    "    cv2.imwrite(str(dest_folder / \"{:.2f}.png\".format(color_correct_blur_frac)), results)"
   ]
  },
  {
   "cell_type": "code",
   "execution_count": null,
   "metadata": {},
   "outputs": [],
   "source": [
    "# mask_method\n",
    "dest_folder = data_folder / \"faceswap_experiments/hyperparams_test/mask_method\"\n",
    "if not dest_folder.exists():\n",
    "    dest_folder.mkdir()\n",
    "for mask_method in ['gen_mask', 'gen_mask_fix', 'face_mask', 'mix_mask']:\n",
    "    swapper.config['mask_method'] = mask_method\n",
    "    results = swapper.swap(target_img)\n",
    "    cv2.imwrite(str(dest_folder / \"{}.png\".format(mask_method)), results)"
   ]
  }
 ],
 "metadata": {
  "accelerator": "GPU",
  "colab": {
   "default_view": {},
   "name": "Face Swap.ipynb",
   "provenance": [],
   "version": "0.3.2",
   "views": {}
  },
  "kernelspec": {
   "display_name": "Python [conda env:image-processing]",
   "language": "python",
   "name": "conda-env-image-processing-py"
  },
  "language_info": {
   "codemirror_mode": {
    "name": "ipython",
    "version": 3
   },
   "file_extension": ".py",
   "mimetype": "text/x-python",
   "name": "python",
   "nbconvert_exporter": "python",
   "pygments_lexer": "ipython3",
   "version": "3.6.7"
  },
  "toc": {
   "nav_menu": {},
   "number_sections": true,
   "sideBar": true,
   "skip_h1_title": false,
   "toc_cell": true,
   "toc_position": {},
   "toc_section_display": "block",
   "toc_window_display": true
  }
 },
 "nbformat": 4,
 "nbformat_minor": 1
}
