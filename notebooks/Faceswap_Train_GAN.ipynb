{
 "cells": [
  {
   "cell_type": "markdown",
   "metadata": {
    "toc": true
   },
   "source": [
    "<h1>Table of Contents<span class=\"tocSkip\"></span></h1>\n",
    "<div class=\"toc\" style=\"margin-top: 1em;\"><ul class=\"toc-item\"></ul></div>"
   ]
  },
  {
   "cell_type": "code",
   "execution_count": 0,
   "metadata": {
    "colab": {
     "autoexec": {
      "startup": false,
      "wait_interval": 0
     }
    },
    "colab_type": "code",
    "collapsed": true,
    "id": "OnnWU5-_qJE_"
   },
   "outputs": [],
   "source": [
    "%%bash\n",
    "git clone https://github.com/5agado/face-swap.git\n",
    "cd face-swap\n",
    "pip install ."
   ]
  },
  {
   "cell_type": "code",
   "execution_count": 0,
   "metadata": {
    "colab": {
     "autoexec": {
      "startup": false,
      "wait_interval": 0
     }
    },
    "colab_type": "code",
    "collapsed": true,
    "id": "DtvkQA7r-Qf2"
   },
   "outputs": [],
   "source": [
    "# Create required folders\n",
    "%%bash\n",
    "mkdir models\n",
    "mkdir data\n",
    "mkdir checkpoints"
   ]
  },
  {
   "cell_type": "code",
   "execution_count": 0,
   "metadata": {
    "colab": {
     "autoexec": {
      "startup": false,
      "wait_interval": 0
     }
    },
    "colab_type": "code",
    "collapsed": true,
    "id": "wyi_vLNg5Dlv"
   },
   "outputs": [],
   "source": [
    "# GDrive authentication\n",
    "!pip install -U -q PyDrive\n",
    "\n",
    "from utils.colaboratory_utils import *\n",
    "drive_client = get_authenticated_drive_client()\n",
    "drive_service = get_drive_service()"
   ]
  },
  {
   "cell_type": "code",
   "execution_count": 0,
   "metadata": {
    "colab": {
     "autoexec": {
      "startup": false,
      "wait_interval": 0
     }
    },
    "colab_type": "code",
    "collapsed": true,
    "id": "jnVdn4vRgrLz"
   },
   "outputs": [],
   "source": [
    "# GDrive folders IDs\n",
    "face_swap_dir_id = 'id_of_your_drive_dir_where_to_save_models'\n",
    "sample_plots_dir_id = 'id_of_your_drive_dir_where_to_save_sample_plots'"
   ]
  },
  {
   "cell_type": "code",
   "execution_count": 0,
   "metadata": {
    "colab": {
     "autoexec": {
      "startup": false,
      "wait_interval": 0
     }
    },
    "colab_type": "code",
    "collapsed": true,
    "id": "VbUyZIWqb0iz"
   },
   "outputs": [],
   "source": [
    "# Import data needed for training\n",
    "import_file(drive_client, \"data_zipfile_id\", \"data.zip\")\n",
    "import_file(drive_client, \"models_zipfile_id\", \"models.zip\")"
   ]
  },
  {
   "cell_type": "code",
   "execution_count": 0,
   "metadata": {
    "colab": {
     "autoexec": {
      "startup": false,
      "wait_interval": 0
     }
    },
    "colab_type": "code",
    "collapsed": true,
    "id": "kqJ5OncC9pua"
   },
   "outputs": [],
   "source": [
    "# Install needed dependencies\n",
    "%%bash\n",
    "unzip -q data.zip -d data\n",
    "unzip -q models.zip -d models\n",
    "\n",
    "#apt-get -qq install -y libsm6 libxext6 build-essential cmake\n",
    "pip install --trusted-host pypi.python.org -r face-swap/requirements_train.txt"
   ]
  },
  {
   "cell_type": "code",
   "execution_count": 0,
   "metadata": {
    "colab": {
     "autoexec": {
      "startup": false,
      "wait_interval": 0
     }
    },
    "colab_type": "code",
    "collapsed": true,
    "id": "pV64ixqDYCY_"
   },
   "outputs": [],
   "source": [
    "import numpy as np\n",
    "import pandas as pd\n",
    "import matplotlib.pyplot as plt\n",
    "from numpy.random import shuffle\n",
    "from IPython.display import clear_output\n",
    "\n",
    "from pathlib import Path\n",
    "import sys\n",
    "import os\n",
    "import yaml\n",
    "\n",
    "import cv2\n",
    "\n",
    "from tqdm import tqdm\n",
    "\n",
    "#%matplotlib notebook\n",
    "%matplotlib inline\n",
    "\n",
    "sys.path.append('./face-swap')\n",
    "sys.path.append('./face-swap/face_swap')\n",
    "\n",
    "from utils import image_processing\n",
    "\n",
    "from face_swap import autoencoder\n",
    "from face_swap import gan, gan_utils\n",
    "from face_swap import faceswap_utils as utils\n",
    "from face_swap.train import get_original_data, get_training_data\n",
    "from face_swap.plot_utils import plot_sample\n",
    "from face_swap.FaceGenerator import random_transform, random_warp\n",
    "from face_swap import FaceGenerator\n",
    "\n",
    "%load_ext autoreload\n",
    "%autoreload 2"
   ]
  },
  {
   "cell_type": "code",
   "execution_count": 0,
   "metadata": {
    "colab": {
     "autoexec": {
      "startup": false,
      "wait_interval": 0
     }
    },
    "colab_type": "code",
    "collapsed": true,
    "id": "z6HhhCcIi2TI"
   },
   "outputs": [],
   "source": [
    "data_folder = Path(\"data/data\")\n",
    "models_path = Path(\"models/checkpoints\")"
   ]
  },
  {
   "cell_type": "code",
   "execution_count": 0,
   "metadata": {
    "colab": {
     "autoexec": {
      "startup": false,
      "wait_interval": 0
     }
    },
    "colab_type": "code",
    "collapsed": true,
    "id": "OfONsXJhk-Pw"
   },
   "outputs": [],
   "source": [
    "# Path of training images\n",
    "img_dirA = data_folder / \"cage\"\n",
    "img_dirB = data_folder / \"trump\""
   ]
  },
  {
   "cell_type": "code",
   "execution_count": 0,
   "metadata": {
    "colab": {
     "autoexec": {
      "startup": false,
      "wait_interval": 0
     }
    },
    "colab_type": "code",
    "collapsed": true,
    "id": "ckgj8mNtonlU"
   },
   "outputs": [],
   "source": [
    "with open(\"face-swap/models.cfg\", 'r') as ymlfile:\n",
    "    cfg = yaml.load(ymlfile)"
   ]
  },
  {
   "cell_type": "code",
   "execution_count": 0,
   "metadata": {
    "colab": {
     "autoexec": {
      "startup": false,
      "wait_interval": 0
     }
    },
    "colab_type": "code",
    "collapsed": true,
    "id": "CV2MAST2mt5X"
   },
   "outputs": [],
   "source": [
    "model_name = \"base_gan\"\n",
    "model_version = \"v0\"\n",
    "\n",
    "# Manually add models path instead of getting it from the config\n",
    "model_cfg = cfg[model_name][model_version]\n",
    "model_cfg['models_path'] = str(models_path)\n",
    "\n",
    "netGA, netGB, netDA, netDB = gan.get_gan(model_cfg)"
   ]
  },
  {
   "cell_type": "code",
   "execution_count": 0,
   "metadata": {
    "colab": {
     "autoexec": {
      "startup": false,
      "wait_interval": 0
     }
    },
    "colab_type": "code",
    "collapsed": true,
    "id": "XF3nb1yTgNkv"
   },
   "outputs": [],
   "source": [
    "# define generation and plotting function\n",
    "# depending if using masked gan model or not\n",
    "if model_cfg['masked']:\n",
    "  netGA_train, netGB_train, netDA_train, netDB_train = gan.build_training_functions_masked(cfg[model_name][model_version], \n",
    "                                                                       netGA, netGB, netDA, netDB)\n",
    "  distorted_A, fake_A, mask_A, path_A, fun_mask_A, fun_abgr = gan_utils.cycle_variables_masked(netGA)\n",
    "  distorted_B, fake_B, mask_B, path_B, fun_mask_B, fun_abgr = gan_utils.cycle_variables_masked(netGB)\n",
    "  gen_plot_a = lambda x: np.array(path_A([x])[0]) \n",
    "  gen_plot_b = lambda x: np.array(path_B([x])[0])\n",
    "  gen_plot_mask_a = lambda x: np.array(fun_mask_A([x])[0])*2-1\n",
    "  gen_plot_mask_b = lambda x: np.array(fun_mask_B([x])[0])*2-1\n",
    "else:\n",
    "  netGA_train, netGB_train, netDA_train, netDB_train = gan.build_training_functions(cfg[model_name][model_version], \n",
    "                                                                     netGA, netGB, netDA, netDB)\n",
    "  gen_plot_a = lambda x: netGA.predict(x)\n",
    "  gen_plot_b = lambda x: netGB.predict(x)"
   ]
  },
  {
   "cell_type": "code",
   "execution_count": 0,
   "metadata": {
    "colab": {
     "autoexec": {
      "startup": false,
      "wait_interval": 0
     }
    },
    "colab_type": "code",
    "collapsed": true,
    "id": "oJYy2MsZrnTY"
   },
   "outputs": [],
   "source": [
    "errsGA = []\n",
    "errsGB = []\n",
    "errsDA = []\n",
    "errsDB = []"
   ]
  },
  {
   "cell_type": "code",
   "execution_count": 0,
   "metadata": {
    "colab": {
     "autoexec": {
      "startup": false,
      "wait_interval": 0
     }
    },
    "colab_type": "code",
    "collapsed": true,
    "id": "RIsW6fJU64mE"
   },
   "outputs": [],
   "source": [
    "total_epochs = 0"
   ]
  },
  {
   "cell_type": "code",
   "execution_count": 0,
   "metadata": {
    "colab": {
     "autoexec": {
      "startup": false,
      "wait_interval": 0
     }
    },
    "colab_type": "code",
    "collapsed": true,
    "id": "piGbnIEFvLrS"
   },
   "outputs": [],
   "source": [
    "models_path = Path(\"checkpoints\")"
   ]
  },
  {
   "cell_type": "code",
   "execution_count": 0,
   "metadata": {
    "colab": {
     "autoexec": {
      "startup": false,
      "wait_interval": 0
     }
    },
    "colab_type": "code",
    "collapsed": true,
    "id": "nfhfaLXk909M"
   },
   "outputs": [],
   "source": [
    "show_plot = True\n",
    "batch_size = 32\n",
    "NB_EPOCH_CHECKPOINT = 1000\n",
    "nb_epochs = 10000\n",
    "\n",
    "images_a, images_b = get_original_data(img_dirA, img_dirB, tanh_fix=True)\n",
    "samples_a, samples_b = get_original_data(img_dirA, img_dirB, (64, 64), tanh_fix=True)\n",
    "\n",
    "for gen_iterations in tqdm(range(nb_epochs)):\n",
    "    total_epochs += 1\n",
    "  \n",
    "    warped_A, target_A = get_training_data(images_a, batch_size, cfg)\n",
    "    warped_B, target_B = get_training_data(images_b, batch_size, cfg)\n",
    "    \n",
    "    # Train discriminators for one batch\n",
    "    errDA  = netDA_train([warped_A, target_A])\n",
    "    errDB  = netDB_train([warped_B, target_B])\n",
    "    errsDA.append(errDA[0])\n",
    "    errsDB.append(errDB[0])\n",
    "\n",
    "    # Train generators for one batch\n",
    "    errGA = netGA_train([warped_A, target_A])\n",
    "    errGB = netGB_train([warped_B, target_B])\n",
    "    errsGA.append(errGA[0])\n",
    "    errsGB.append(errGB[0])\n",
    "    \n",
    "    if (gen_iterations % NB_EPOCH_CHECKPOINT == 0) or (gen_iterations == nb_epochs):\n",
    "        print(\"Loss_DA: {} Loss_DB: {} Loss_GA: {} Loss_GB: {}\".format(errDA, errDB, errGA, errGB))\n",
    "        \n",
    "        # get new batch of images and generate results for visualization\n",
    "        sample_img_name = \"sample_{}.jpg\".format(total_epochs)\n",
    "        shuffle(samples_a)\n",
    "        shuffle(samples_b)\n",
    "        \n",
    "        # if specified, show sample plot in the notebook\n",
    "        if show_plot:\n",
    "          if gen_iterations % (3*NB_EPOCH_CHECKPOINT) == 0:\n",
    "            clear_output()\n",
    "          plot_sample(samples_a, samples_b, \n",
    "                    gen_plot_a, gen_plot_b,\n",
    "                    tanh_fix=True)\n",
    "          if model_cfg['masked']:\n",
    "            plot_sample(samples_a, samples_b, \n",
    "                      gen_plot_mask_a, gen_plot_mask_b,\n",
    "                      tanh_fix=True)\n",
    "        # otherwise save to file and export to Drive\n",
    "        else:\n",
    "          sample_img_name = \"sample_{}.jpg\".format(total_epochs)\n",
    "          plot_sample(samples_a, samples_b, \n",
    "                    gen_plot_a, gen_plot_b,\n",
    "                    tanh_fix=True, save_to=sample_img_name)\n",
    "          export_file(drive_service, sample_img_name, sample_img_name, sample_plots_dir_id)\n",
    "        \n",
    "        # save models\n",
    "        netGA.layers[1].save_weights(str(models_path / \"encoder.h5\"))\n",
    "        netGA.layers[2].save_weights(str(models_path / \"decoder_A.h5\"))\n",
    "        netGB.layers[2].save_weights(str(models_path / \"decoder_B.h5\"))\n",
    "        netDA.save_weights(str(models_path / \"netDA.h5\"))\n",
    "        netDB.save_weights(str(models_path / \"netDB.h5\"))"
   ]
  },
  {
   "cell_type": "code",
   "execution_count": 0,
   "metadata": {
    "colab": {
     "autoexec": {
      "startup": false,
      "wait_interval": 0
     }
    },
    "colab_type": "code",
    "collapsed": true,
    "id": "QZQQY22-rDIk"
   },
   "outputs": [],
   "source": [
    "# Name of zip that will contain model checkpoint\n",
    "zip_name = \"gan_v1.zip\""
   ]
  },
  {
   "cell_type": "code",
   "execution_count": 0,
   "metadata": {
    "colab": {
     "autoexec": {
      "startup": false,
      "wait_interval": 0
     }
    },
    "colab_type": "code",
    "collapsed": true,
    "id": "Xr2l-WXviia4"
   },
   "outputs": [],
   "source": [
    "# Zip model checkpoint\n",
    "!zip -r $zip_name $models_path/*"
   ]
  },
  {
   "cell_type": "code",
   "execution_count": 0,
   "metadata": {
    "colab": {
     "autoexec": {
      "startup": false,
      "wait_interval": 0
     }
    },
    "colab_type": "code",
    "collapsed": true,
    "id": "0Q5EAEVIi1Lk"
   },
   "outputs": [],
   "source": [
    "# Export zip to GDrive\n",
    "export_file(drive_service, zip_name, zip_name, face_swap_dir_id)"
   ]
  }
 ],
 "metadata": {
  "accelerator": "GPU",
  "colab": {
   "collapsed_sections": [],
   "default_view": {},
   "name": "Faceswap-Train-GAN.ipynb",
   "provenance": [],
   "version": "0.3.2",
   "views": {}
  },
  "kernelspec": {
   "display_name": "Python [default]",
   "language": "python",
   "name": "python3"
  },
  "language_info": {
   "codemirror_mode": {
    "name": "ipython",
    "version": 3
   },
   "file_extension": ".py",
   "mimetype": "text/x-python",
   "name": "python",
   "nbconvert_exporter": "python",
   "pygments_lexer": "ipython3",
   "version": "3.6.3"
  },
  "toc": {
   "nav_menu": {},
   "number_sections": true,
   "sideBar": true,
   "skip_h1_title": false,
   "toc_cell": true,
   "toc_position": {},
   "toc_section_display": "block",
   "toc_window_display": true
  }
 },
 "nbformat": 4,
 "nbformat_minor": 1
}
